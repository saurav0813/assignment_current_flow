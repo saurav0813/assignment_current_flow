{
 "cells": [
  {
   "cell_type": "markdown",
   "metadata": {},
   "source": [
    "Basic If-Else Statements:\n",
    "1. Write a Python program to check if a given number is positive or negative."
   ]
  },
  {
   "cell_type": "code",
   "execution_count": 2,
   "metadata": {},
   "outputs": [
    {
     "data": {
      "text/plain": [
       "(1, 'is positive')"
      ]
     },
     "execution_count": 2,
     "metadata": {},
     "output_type": "execute_result"
    }
   ],
   "source": [
    "def is_positive_or_negative(n):\n",
    "    if n >=0:\n",
    "        return n ,\"is positive\"\n",
    "    else:\n",
    "        return n,\"is negative\"\n",
    "is_positive_or_negative(1)"
   ]
  },
  {
   "cell_type": "markdown",
   "metadata": {},
   "source": [
    "2. Create a program that determines if a person is eligible to vote based on their age."
   ]
  },
  {
   "cell_type": "code",
   "execution_count": 5,
   "metadata": {},
   "outputs": [
    {
     "data": {
      "text/plain": [
       "'he is eligible to vote'"
      ]
     },
     "execution_count": 5,
     "metadata": {},
     "output_type": "execute_result"
    }
   ],
   "source": [
    "def eligible_for_vote(age):\n",
    "    if age>=18:\n",
    "        return \"he is eligible to vote\"\n",
    "    else:\n",
    "        return \"he is not eligible to vote\"\n",
    "eligible_for_vote(19)"
   ]
  },
  {
   "cell_type": "markdown",
   "metadata": {},
   "source": [
    "3. Develop a program to find the maximum of two numbers using if-else statements."
   ]
  },
  {
   "cell_type": "code",
   "execution_count": 8,
   "metadata": {},
   "outputs": [
    {
     "name": "stdout",
     "output_type": "stream",
     "text": [
      "maximum of two number is 9\n"
     ]
    }
   ],
   "source": [
    "def max_two_num(a,b):\n",
    "    if a>b:\n",
    "        return a\n",
    "    else:\n",
    "        return b\n",
    "print(\"maximum of two number is\", max_two_num(8,9))"
   ]
  },
  {
   "cell_type": "markdown",
   "metadata": {},
   "source": [
    "4. Write a Python script to classify a given year as a leap year or not."
   ]
  },
  {
   "cell_type": "code",
   "execution_count": 10,
   "metadata": {},
   "outputs": [
    {
     "name": "stdout",
     "output_type": "stream",
     "text": [
      "2023 is not a leap year.\n"
     ]
    }
   ],
   "source": [
    "def is_leap_year(year):\n",
    "    if year % 4 == 0:\n",
    "        if year % 100 == 0:\n",
    "            if year % 400 == 0:\n",
    "                return True\n",
    "            else:\n",
    "                return False\n",
    "        else:\n",
    "            return True\n",
    "    else:\n",
    "        return False\n",
    "\n",
    "year = int(input(\"Enter a year: \"))\n",
    "if is_leap_year(year):\n",
    "    print(year, \"is a leap year.\")\n",
    "else:\n",
    "    print(year, \"is not a leap year.\")"
   ]
  },
  {
   "cell_type": "markdown",
   "metadata": {},
   "source": [
    "5. Create a program that checks whether a character is a vowel or a consonant."
   ]
  },
  {
   "cell_type": "code",
   "execution_count": 17,
   "metadata": {},
   "outputs": [
    {
     "name": "stdout",
     "output_type": "stream",
     "text": [
      "('A', 'is vowel')\n",
      "('b', 'is consonant')\n"
     ]
    }
   ],
   "source": [
    "def is_vowel_or_consonant(char):\n",
    "    vowels ='aeiou'\n",
    "    if char.lower() in vowels:\n",
    "        return char,\"is vowel\"\n",
    "    else:\n",
    "        return char,\"is consonant\"\n",
    "print(is_vowel_or_consonant(\"A\"))\n",
    "print(is_vowel_or_consonant(\"b\"))\n",
    "    "
   ]
  },
  {
   "cell_type": "markdown",
   "metadata": {},
   "source": [
    "6. Implement a program to determine whether a given number is even or odd."
   ]
  },
  {
   "cell_type": "code",
   "execution_count": 20,
   "metadata": {},
   "outputs": [
    {
     "name": "stdout",
     "output_type": "stream",
     "text": [
      "(3, 'is an odd number')\n",
      "(4, 'is an even number')\n"
     ]
    }
   ],
   "source": [
    "def check_even_or_odd(n):\n",
    "    if n%2==0:\n",
    "        return n,\"is an even number\"\n",
    "    else:\n",
    "        return n,\"is an odd number\"\n",
    "print(check_even_or_odd(3))\n",
    "print(check_even_or_odd(4))"
   ]
  },
  {
   "cell_type": "markdown",
   "metadata": {},
   "source": [
    "7. Write a Python function to calculate the absolute value of a number without using the `abs()` function."
   ]
  },
  {
   "cell_type": "code",
   "execution_count": 25,
   "metadata": {},
   "outputs": [
    {
     "name": "stdout",
     "output_type": "stream",
     "text": [
      "absolute value of number is 3\n",
      "absolute value of number is 3\n"
     ]
    }
   ],
   "source": [
    "def absolute_value(n):\n",
    "    if n<0:\n",
    "        return -n\n",
    "    else:\n",
    "        return n\n",
    "print(\"absolute value of number is\",absolute_value(-3))\n",
    "print(\"absolute value of number is\",absolute_value(3))"
   ]
  },
  {
   "cell_type": "markdown",
   "metadata": {},
   "source": [
    "8. Develop a program that determines the largest of three given numbers using if-else statements."
   ]
  },
  {
   "cell_type": "code",
   "execution_count": 41,
   "metadata": {},
   "outputs": [
    {
     "name": "stdout",
     "output_type": "stream",
     "text": [
      "The largest number is: 13\n"
     ]
    }
   ],
   "source": [
    "def largest_of_3_number(a,b,c):\n",
    "    if a >= b and a >= c:\n",
    "       return a\n",
    "    if b >= a and b >= c:\n",
    "        return b\n",
    "    if c >= a and c >= b:\n",
    "        return c\n",
    "    \n",
    "print(\"The largest number is:\", largest_of_3_number(10,13,11))"
   ]
  },
  {
   "cell_type": "markdown",
   "metadata": {},
   "source": [
    "9. Create a program that checks if a given string is a palindrome."
   ]
  },
  {
   "cell_type": "code",
   "execution_count": 33,
   "metadata": {},
   "outputs": [
    {
     "data": {
      "text/plain": [
       "True"
      ]
     },
     "execution_count": 33,
     "metadata": {},
     "output_type": "execute_result"
    }
   ],
   "source": [
    "def is_palindrome(input_str):\n",
    "    return input_str == input_str[::-1]\n",
    "is_palindrome(\"nitin\")"
   ]
  },
  {
   "cell_type": "markdown",
   "metadata": {},
   "source": [
    "10. Write a Python program to calculate the grade based on a student's score."
   ]
  },
  {
   "cell_type": "code",
   "execution_count": 40,
   "metadata": {},
   "outputs": [
    {
     "name": "stdout",
     "output_type": "stream",
     "text": [
      "your grade is: A+\n"
     ]
    }
   ],
   "source": [
    "def student_grade(score):\n",
    "    if score>=90:\n",
    "        return \"A+\"\n",
    "    if 80<=score <90:\n",
    "        return \"A\"\n",
    "    if 70<=score<80:\n",
    "        return \"B+\"\n",
    "    if 60<=score<70:\n",
    "        return \"B\"\n",
    "    if 50<=score<60:\n",
    "        return \"C+\"\n",
    "    if 40<=score<50:\n",
    "        return \"C\"\n",
    "    else:\n",
    "        return \"F\"\n",
    "print(\"your grade is:\",student_grade(98))"
   ]
  },
  {
   "cell_type": "markdown",
   "metadata": {},
   "source": [
    "Nested If-Else Statements:\n",
    "\n",
    "11. Write a program to find the largest among three numbers using nested if-else statements."
   ]
  },
  {
   "cell_type": "code",
   "execution_count": 42,
   "metadata": {},
   "outputs": [
    {
     "name": "stdout",
     "output_type": "stream",
     "text": [
      "largest among three numbers:  45\n"
     ]
    }
   ],
   "source": [
    "def largest_of_3_number(a,b,c):\n",
    "    if a > b:\n",
    "        if a>c:\n",
    "            return a\n",
    "        else:\n",
    "            return c\n",
    "    else:\n",
    "        if b>c:\n",
    "            return b\n",
    "        else:\n",
    "            return c\n",
    "print(\"largest among three numbers: \",largest_of_3_number(12,23,45))"
   ]
  },
  {
   "cell_type": "markdown",
   "metadata": {},
   "source": [
    "12. Implement a program to determine if a triangle is equilateral, isosceles, or scalene."
   ]
  },
  {
   "cell_type": "code",
   "execution_count": 61,
   "metadata": {},
   "outputs": [
    {
     "name": "stdout",
     "output_type": "stream",
     "text": [
      "triangle is equilateral,isosclesne or scalene:  equilateral\n",
      "triangle is equilateral,isosclesne or scalene:  isosceles\n",
      "triangle is equilateral,isosclesne or scalene:  scalene\n"
     ]
    }
   ],
   "source": [
    "def determine_triangle(a,b,c):\n",
    "    if a+b >c and a+c>b and b+c>a:\n",
    "        if a==b and b==c:\n",
    "            return \"equilateral\"\n",
    "        else:\n",
    "            if a == b or b==c or a==c:\n",
    "                return \"isosceles\"\n",
    "            else:\n",
    "                return \"scalene\"\n",
    "    else:\n",
    "        return \"this side can't form triangle\"\n",
    "\n",
    "\n",
    "print(\"triangle is equilateral,isosclesne or scalene: \",determine_triangle(1,1,1))\n",
    "print(\"triangle is equilateral,isosclesne or scalene: \",determine_triangle(2,3,2))\n",
    "print(\"triangle is equilateral,isosclesne or scalene: \",determine_triangle(3,2,4))"
   ]
  },
  {
   "cell_type": "markdown",
   "metadata": {},
   "source": [
    "13. Develop a program that checks if a year is a leap year and also if it is a century year."
   ]
  },
  {
   "cell_type": "code",
   "execution_count": 51,
   "metadata": {},
   "outputs": [
    {
     "name": "stdout",
     "output_type": "stream",
     "text": [
      "2024 is a leap year.\n"
     ]
    }
   ],
   "source": [
    "def check_leap_year(year):\n",
    "    if year % 4 == 0:\n",
    "        if year % 100 == 0:\n",
    "            if year % 400 == 0:\n",
    "                return True\n",
    "            else:\n",
    "                return False\n",
    "        else:\n",
    "            return True\n",
    "    else:\n",
    "        return False\n",
    "\n",
    "year = int(input(\"Enter a year: \"))\n",
    "if is_leap_year(year):\n",
    "    print(year, \"is a leap year.\")\n",
    "else:\n",
    "    print(year, \"is not a leap year.\")\n",
    "                "
   ]
  },
  {
   "cell_type": "markdown",
   "metadata": {},
   "source": [
    "14. Write a Python script to determine if a number is positive, negative, or zero."
   ]
  },
  {
   "cell_type": "code",
   "execution_count": 56,
   "metadata": {},
   "outputs": [
    {
     "name": "stdout",
     "output_type": "stream",
     "text": [
      "(3, 'is positive')\n",
      "(0, 'is zero')\n",
      "(-3, 'is negative')\n"
     ]
    }
   ],
   "source": [
    "def detrermine_number(n):\n",
    "    if n == 0:\n",
    "        return n,\"is zero\"\n",
    "    else:\n",
    "        if n>0:\n",
    "            return n,\"is positive\"\n",
    "        else:\n",
    "            return n,\"is negative\"\n",
    "print(detrermine_number(3))\n",
    "print(detrermine_number(0))\n",
    "print(detrermine_number(-3))\n",
    "    "
   ]
  },
  {
   "cell_type": "markdown",
   "metadata": {},
   "source": [
    "15. Create a program to check if a person is a teenager (between 13 and 19 years old)."
   ]
  },
  {
   "cell_type": "code",
   "execution_count": 67,
   "metadata": {},
   "outputs": [
    {
     "name": "stdout",
     "output_type": "stream",
     "text": [
      "person is teenager\n",
      "person isn't teenager\n",
      "person is teenager\n",
      "person is teenager\n",
      "person isn't teenager\n"
     ]
    }
   ],
   "source": [
    "def check_teenager(age):\n",
    "    if age>=13:\n",
    "        if age <= 19:\n",
    "            return \"person is teenager\"\n",
    "        else:\n",
    "            return \"person isn't teenager\"\n",
    "    else:\n",
    "        return \"person isn't teenager\"\n",
    "print(check_teenager(19))\n",
    "print(check_teenager(12))\n",
    "print(check_teenager(13))\n",
    "print(check_teenager(17))\n",
    "print(check_teenager(22))"
   ]
  },
  {
   "cell_type": "markdown",
   "metadata": {},
   "source": [
    "16. Develop a program that determines the type of angle based on its measure (acute, obtuse, or right)."
   ]
  },
  {
   "cell_type": "code",
   "execution_count": 70,
   "metadata": {},
   "outputs": [
    {
     "name": "stdout",
     "output_type": "stream",
     "text": [
      "it's right angle\n",
      "it's acute angle\n",
      "it's obtuse angle\n",
      "invalid angle\n"
     ]
    }
   ],
   "source": [
    "def check_angle(angle):\n",
    "    if angle >= 0:\n",
    "        if angle == 90:\n",
    "            return \"it's right angle\"\n",
    "        else:\n",
    "            if angle <90:\n",
    "                return \"it's acute angle\"\n",
    "            else:\n",
    "                return \"it's obtuse angle\"\n",
    "    else:\n",
    "        return \"invalid angle\"\n",
    "print(check_angle(90))\n",
    "print(check_angle(60))\n",
    "print(check_angle(120))\n",
    "print(check_angle(-30))"
   ]
  },
  {
   "cell_type": "markdown",
   "metadata": {},
   "source": [
    "17. Write a Python program to calculate the roots of a quadratic equation."
   ]
  },
  {
   "cell_type": "code",
   "execution_count": 76,
   "metadata": {},
   "outputs": [
    {
     "name": "stdout",
     "output_type": "stream",
     "text": [
      "the equation has single root 1.0\n",
      "the equation has two roots -1.0 and -5.0\n",
      "the equation has no real roots\n"
     ]
    }
   ],
   "source": [
    "def calculate_root(a,b,c):\n",
    "    D = b**2 - 4*a*c\n",
    "    if D>=0:\n",
    "        if D == 0:\n",
    "            root = -b/(2*a)\n",
    "            return f\"the equation has single root {root}\"\n",
    "        else:\n",
    "            root1 = (-b+D**0.5)//(2*a)\n",
    "            root2 = (-b-D**0.5)//(2*a)\n",
    "            return f\"the equation has two roots {root1} and {root2}\"\n",
    "    else:\n",
    "        return \"the equation has no real roots\"\n",
    "print(calculate_root(1,-2,1))\n",
    "print(calculate_root(1,5,2))\n",
    "print(calculate_root(1,1,2))"
   ]
  },
  {
   "cell_type": "markdown",
   "metadata": {},
   "source": [
    "18. Implement a program to determine the day of the week based on a user-provided number (1 for Monday, 2\n",
    "for Tuesday, etc.)."
   ]
  },
  {
   "cell_type": "code",
   "execution_count": 78,
   "metadata": {},
   "outputs": [
    {
     "name": "stdout",
     "output_type": "stream",
     "text": [
      "day of week is:  Monday\n",
      "day of week is:  Tuesday\n",
      "day of week is:  Wednesday\n",
      "day of week is:  Thursday\n",
      "day of week is:  Friday\n",
      "day of week is:  Saturday\n",
      "day of week is:  Sunday\n",
      "day of week is:  please enter valid day_number(1-7)\n"
     ]
    }
   ],
   "source": [
    "def day_of_week(day_number):\n",
    "    if 1<= day_number <=7:\n",
    "        if day_number==1:\n",
    "            return \"Monday\"\n",
    "        else:\n",
    "            if day_number==2:\n",
    "                return \"Tuesday\"\n",
    "            else:\n",
    "                if day_number == 3:\n",
    "                    return \"Wednesday\"\n",
    "                else:\n",
    "                    if day_number == 4:\n",
    "                        return \"Thursday\"\n",
    "                    else:\n",
    "                        if day_number == 5:\n",
    "                            return \"Friday\"\n",
    "                        else:\n",
    "                            if day_number == 6:\n",
    "                                return \"Saturday\"\n",
    "                            else:\n",
    "                                return \"Sunday\"\n",
    "    else:\n",
    "        return \"please enter valid day_number(1-7)\"\n",
    "print(\"day of week is: \",day_of_week(1))\n",
    "print(\"day of week is: \",day_of_week(2))\n",
    "print(\"day of week is: \",day_of_week(3))\n",
    "print(\"day of week is: \",day_of_week(4))\n",
    "print(\"day of week is: \",day_of_week(5))\n",
    "print(\"day of week is: \",day_of_week(6))\n",
    "print(\"day of week is: \",day_of_week(7))\n",
    "print(\"day of week is: \",day_of_week(8))"
   ]
  },
  {
   "cell_type": "markdown",
   "metadata": {},
   "source": [
    "19. Create a program that determines if a year is a leap year and also if it is evenly divisible by 400."
   ]
  },
  {
   "cell_type": "code",
   "execution_count": 80,
   "metadata": {},
   "outputs": [
    {
     "name": "stdout",
     "output_type": "stream",
     "text": [
      "2024 is a leap year.\n",
      "2024 is not divisible by 400.\n"
     ]
    },
    {
     "data": {
      "text/plain": [
       "False"
      ]
     },
     "execution_count": 80,
     "metadata": {},
     "output_type": "execute_result"
    }
   ],
   "source": [
    "def is_leap_year(year):\n",
    "    if (year % 4 == 0):\n",
    "        if (year % 100 != 0) or (year % 400 == 0):\n",
    "            return True\n",
    "    return False\n",
    "\n",
    "def is_divisible_by_400(year):\n",
    "    return year % 400 == 0\n",
    "if is_leap_year(year):\n",
    "    print(f\"{year} is a leap year.\")\n",
    "    if is_divisible_by_400(year):\n",
    "        print(f\"{year} is also divisible by 400.\")\n",
    "    else:\n",
    "        print(f\"{year} is not divisible by 400.\")\n",
    "else:\n",
    "    print(f\"{year} is not a leap year.\")\n",
    "    if is_divisible_by_400(year):\n",
    "        print(f\"{year} is divisible by 400.\")\n",
    "    else:\n",
    "        print(f\"{year} is not divisible by 400.\")\n",
    "is_leap_year(2024)\n",
    "is_divisible_by_400(2024)\n"
   ]
  },
  {
   "cell_type": "markdown",
   "metadata": {},
   "source": [
    "20. Develop a program that checks if a given number is prime or not using nested if-else statements."
   ]
  },
  {
   "cell_type": "code",
   "execution_count": 86,
   "metadata": {},
   "outputs": [
    {
     "name": "stdout",
     "output_type": "stream",
     "text": [
      "(11, 'is prime number')\n"
     ]
    }
   ],
   "source": [
    "def check_prime_number(n):\n",
    "    if n>1:\n",
    "        if n==2:\n",
    "            return n,\"is prime number\"\n",
    "        else:\n",
    "            if n%2==0:\n",
    "                return n,\"is not prime number\"\n",
    "            else:\n",
    "                for i in range(3,int(n**0.5)+1,2):\n",
    "                    if n%i == 0:\n",
    "                        return n,\"is not prime number\"\n",
    "                return n,\"is prime number\"\n",
    "    else:\n",
    "        n,\"is not prime number\"\n",
    "print(check_prime_number(11))"
   ]
  },
  {
   "cell_type": "markdown",
   "metadata": {},
   "source": [
    "Elif Statements:\n",
    "\n",
    "21. Write a Python program to assign grades based on different ranges of scores using elif statements."
   ]
  },
  {
   "cell_type": "code",
   "execution_count": 88,
   "metadata": {},
   "outputs": [
    {
     "name": "stdout",
     "output_type": "stream",
     "text": [
      "your grade is A+\n",
      "your grade is A+\n",
      "Your grade is A\n",
      "your grade is B+\n",
      "your grade is B\n",
      "Your grade id C+\n",
      "your grade is D\n",
      "You are  FAILED\n"
     ]
    }
   ],
   "source": [
    "def assign_Scores(score):\n",
    "    if 1 <= score <=100:\n",
    "        if 90 <= score <=100:\n",
    "            return \"your grade is A+\"\n",
    "        elif 80<= score < 90:\n",
    "            return \"Your grade is A\"\n",
    "        elif 70<= score < 80:\n",
    "            return \"your grade is B+\"\n",
    "        elif 60<= score <70:\n",
    "            return \"your grade is B\"\n",
    "        elif 50<=score<60:\n",
    "            return \"Your grade id C+\"\n",
    "        elif 40<=score<50:\n",
    "            return \"your grade is D\"\n",
    "        else:\n",
    "            return \"You are  FAILED\"\n",
    "    else:\n",
    "        return \"please enter valid score(1-100)\"\n",
    "print(assign_Scores(100))\n",
    "print(assign_Scores(90))\n",
    "print(assign_Scores(80))\n",
    "print(assign_Scores(70))\n",
    "print(assign_Scores(60))\n",
    "print(assign_Scores(50))\n",
    "print(assign_Scores(40))\n",
    "print(assign_Scores(30))"
   ]
  },
  {
   "cell_type": "markdown",
   "metadata": {},
   "source": [
    "22. Implement a program to determine the type of a triangle based on its angles."
   ]
  },
  {
   "cell_type": "code",
   "execution_count": 2,
   "metadata": {},
   "outputs": [
    {
     "name": "stdout",
     "output_type": "stream",
     "text": [
      "scelene triangle\n"
     ]
    }
   ],
   "source": [
    "def triangle_type(a,b,c):\n",
    "    if a + b + c != 180:\n",
    "        return 'invalid angle'\n",
    "    elif a == b and b==c:\n",
    "        return \"it's equilateral triangle\"\n",
    "    elif a == b or a==c or b==c:\n",
    "        return \"it's isoscelene triangle\"  \n",
    "    else:\n",
    "        return \"scelene triangle\"\n",
    "    if a==90 or b==90 or c ==90:\n",
    "        return \"it's right triangle\"\n",
    "    elif a>90 or b>90 or c>90:\n",
    "        return \"it's obtuse triangle\"\n",
    "    else:\n",
    "        return \"acute triangle\"\n",
    "print(triangle_type(90,30,60))           "
   ]
  },
  {
   "cell_type": "code",
   "execution_count": 5,
   "metadata": {},
   "outputs": [
    {
     "name": "stdout",
     "output_type": "stream",
     "text": [
      "Acute Equilateral\n",
      "Right Isosceles\n",
      "Right Scalene\n",
      "Acute Scalene\n",
      "Obtuse Isosceles\n"
     ]
    }
   ],
   "source": [
    "def triangle_type(angle1, angle2, angle3):\n",
    "\n",
    "    if angle1 + angle2 + angle3 != 180:\n",
    "        return \"Not a triangle\"\n",
    "\n",
    "    if angle1 == 90 or angle2 == 90 or angle3 == 90:\n",
    "        triangle_class = \"Right\"\n",
    "    elif angle1 > 90 or angle2 > 90 or angle3 > 90:\n",
    "        triangle_class = \"Obtuse\"\n",
    "    else:\n",
    "        triangle_class = \"Acute\"\n",
    "\n",
    "    if angle1 == angle2 == angle3:\n",
    "        return f\"{triangle_class} Equilateral\"\n",
    "    elif angle1 == angle2 or angle1 == angle3 or angle2 == angle3:\n",
    "        return f\"{triangle_class} Isosceles\"\n",
    "    else:\n",
    "        return f\"{triangle_class} Scalene\"\n",
    "\n",
    "\n",
    "print(triangle_type(60, 60, 60))  # Acute Equilateral\n",
    "print(triangle_type(45, 45, 90))  # Right Isosceles\n",
    "print(triangle_type(30, 60, 90))  # Right Scalene\n",
    "print(triangle_type(50, 70, 60))  # Acute Scalene\n",
    "print(triangle_type(100, 40, 40)) # Obtuse Isosceles\n",
    "\n"
   ]
  },
  {
   "cell_type": "markdown",
   "metadata": {},
   "source": [
    "23. Develop a program to categorize a given person's BMI into underweight, normal, overweight, or obese using\n",
    "elif statements."
   ]
  },
  {
   "cell_type": "code",
   "execution_count": 8,
   "metadata": {},
   "outputs": [
    {
     "name": "stdout",
     "output_type": "stream",
     "text": [
      "BMI Category: Overweight\n"
     ]
    }
   ],
   "source": [
    "def categorize_bmi(weight, height):\n",
    "\n",
    "    bmi = weight / (height ** 2)\n",
    "\n",
    "    if bmi < 18.5:\n",
    "        return \"Underweight\"\n",
    "    elif 18.5 <= bmi < 24.9:\n",
    "        return \"Normal weight\"\n",
    "    elif 25 <= bmi < 29.9:\n",
    "        return \"Overweight\"\n",
    "    else:  \n",
    "        return \"Obese\"\n",
    "\n",
    "bmi_category = categorize_bmi(80, 1.76)\n",
    "print(f\"BMI Category: {bmi_category}\")\n"
   ]
  },
  {
   "cell_type": "markdown",
   "metadata": {},
   "source": [
    "24. Create a program that determines whether a given number is positive, negative, or zero using elif\n",
    "statements."
   ]
  },
  {
   "cell_type": "code",
   "execution_count": 10,
   "metadata": {},
   "outputs": [
    {
     "name": "stdout",
     "output_type": "stream",
     "text": [
      "it should be integer or float\n",
      "number is zero\n",
      "number is positive\n",
      "number is negative\n"
     ]
    }
   ],
   "source": [
    "def detrermine_number(n):\n",
    "    if isinstance(n,(int,float)):\n",
    "        if n == 0:\n",
    "            return \"number is zero\"\n",
    "        elif n<0:\n",
    "            return \"number is negative\"\n",
    "        elif n>0:\n",
    "            return \"number is positive\"\n",
    "    else:\n",
    "        return \"it should be integer or float\"\n",
    "print(detrermine_number('saurav'))\n",
    "print(detrermine_number(0))\n",
    "print(detrermine_number(7.3))\n",
    "print(detrermine_number(-8))"
   ]
  },
  {
   "cell_type": "markdown",
   "metadata": {},
   "source": [
    "25. Write a Python script to determine the type of a character (uppercase, lowercase, or special) using elif\n",
    "statements."
   ]
  },
  {
   "cell_type": "code",
   "execution_count": 14,
   "metadata": {},
   "outputs": [
    {
     "name": "stdout",
     "output_type": "stream",
     "text": [
      "it's uppercase char\n",
      "it's lowercase char\n",
      "it's special char\n",
      "invalid input\n",
      "it's special char\n"
     ]
    }
   ],
   "source": [
    "def char_type(char):\n",
    "    if isinstance(char,str):\n",
    "        if char.isupper():\n",
    "            return \"it's uppercase char\"\n",
    "        elif char.islower():\n",
    "            return \"it's lowercase char\"\n",
    "        else:\n",
    "            return \"it's special char\"\n",
    "    else:\n",
    "        return \"invalid input\"\n",
    "print(char_type('A'))\n",
    "print(char_type('a'))\n",
    "print(char_type('@'))\n",
    "print(char_type(1))\n",
    "print(char_type('Ab'))"
   ]
  },
  {
   "cell_type": "markdown",
   "metadata": {},
   "source": [
    "26. Implement a program to calculate the discounted price based on different purchase amounts using elif\n",
    "statements"
   ]
  },
  {
   "cell_type": "code",
   "execution_count": 17,
   "metadata": {},
   "outputs": [
    {
     "name": "stdout",
     "output_type": "stream",
     "text": [
      "Discounted price is ₹7200.00\n",
      "Discounted price is ₹6000.00\n",
      "Discounted price is ₹4800.00\n",
      "Discounted price is ₹4000.00\n",
      "Discounted price is ₹3000.00\n",
      "Invalid Input. Please enter numeric value\n"
     ]
    }
   ],
   "source": [
    "def discounted_price(PAmount):\n",
    "    if isinstance(PAmount,(int,float)):\n",
    "        if PAmount >=10000:\n",
    "            dprice = PAmount*(1-0.40)\n",
    "        elif PAmount >=5000:\n",
    "            dprice = PAmount*(1-0.20)\n",
    "        else:\n",
    "            dprice = PAmount\n",
    "        return f\"Discounted price is ₹{dprice:.2f}\"\n",
    "        \n",
    "    else:\n",
    "        return \"Invalid Input. Please enter numeric value\" \n",
    "print(discounted_price(12000))\n",
    "print(discounted_price(10000))\n",
    "print(discounted_price(6000))\n",
    "print(discounted_price(5000))\n",
    "print(discounted_price(3000))\n",
    "print(discounted_price('saurav'))\n",
    "      "
   ]
  },
  {
   "cell_type": "markdown",
   "metadata": {},
   "source": [
    "27. Develop a program to calculate the electricity bill based on different consumption slabs using elif\n",
    "statements."
   ]
  },
  {
   "cell_type": "code",
   "execution_count": 20,
   "metadata": {},
   "outputs": [
    {
     "name": "stdout",
     "output_type": "stream",
     "text": [
      "The electricity bill is ₹40.00\n",
      "The electricity bill is ₹275.00\n",
      "The electricity bill is ₹550.00\n",
      "The electricity bill is ₹1000.00\n",
      "unit can't be negative\n",
      "invalid input.Please enter numeric value\n"
     ]
    }
   ],
   "source": [
    "def calculate_electricity_bill(unit):\n",
    "    if isinstance(unit,(int,float)):\n",
    "        if unit<0:\n",
    "            return \"unit can't be negative\"\n",
    "        if unit <= 100:\n",
    "            bill = unit*0.5\n",
    "        elif unit<=300:\n",
    "            bill = (unit*0.5)+((unit-100)*1)\n",
    "        elif unit<=500:\n",
    "            bill = (unit*0.5)+(200*1) +((unit-300)*1.5)\n",
    "        else:\n",
    "            bill = (unit*0.5)+(200*1)+(200*1.5)+((unit-500)*2)\n",
    "\n",
    "        return f\"The electricity bill is ₹{bill:.2f}\"\n",
    "    else:\n",
    "        return \"invalid input.Please enter numeric value\"\n",
    "    \n",
    "print(calculate_electricity_bill(80))   \n",
    "print(calculate_electricity_bill(250))  \n",
    "print(calculate_electricity_bill(400))  \n",
    "print(calculate_electricity_bill(600))  \n",
    "print(calculate_electricity_bill(-10))  \n",
    "print(calculate_electricity_bill('abc'))\n",
    "            "
   ]
  },
  {
   "cell_type": "markdown",
   "metadata": {},
   "source": [
    "28. Create a program to determine the type of quadrilateral based on its angles and sides using elif\n",
    "statements."
   ]
  },
  {
   "cell_type": "code",
   "execution_count": 22,
   "metadata": {},
   "outputs": [
    {
     "name": "stdout",
     "output_type": "stream",
     "text": [
      "Square\n",
      "Rectangle\n",
      "Rhombus\n",
      "Parallelogram\n",
      "Trapezium\n",
      "General Quadrilateral\n"
     ]
    }
   ],
   "source": [
    "def quadrilateral_type(sides,angles):\n",
    "    if len(sides)!=4 and len(angles)!=4:\n",
    "        return \"Invalid input. There should be exactly 4 sides and 4 angles.\"\n",
    "    if sum(angles)!=360:\n",
    "        return \"Invalid angles. The sum of angles in a quadrilateral should be 360 degrees.\"\n",
    "    a, b, c, d = sides\n",
    "    angle1, angle2, angle3, angle4 = angles\n",
    "\n",
    "    if a == b == c == d and angle1 == angle2 == angle3 == angle4 == 90:\n",
    "        return \"Square\"\n",
    "    elif a == c and b == d and angle1 == angle3 and angle2 == angle4 and angle1 == 90:\n",
    "        return \"Rectangle\"\n",
    "    elif a == b == c == d and angle1 == angle3 and angle2 == angle4:\n",
    "        return \"Rhombus\"\n",
    "    elif a == c and b == d and angle1 == angle3 and angle2 == angle4:\n",
    "        return \"Parallelogram\"\n",
    "    elif (a == b and c == d) or (a == d and b == c):\n",
    "        return \"Trapezium\"\n",
    "    else:\n",
    "        return \"General Quadrilateral\"\n",
    "\n",
    "# Example usage\n",
    "print(quadrilateral_type([4, 4, 4, 4], [90, 90, 90, 90]))  # Square\n",
    "print(quadrilateral_type([4, 6, 4, 6], [90, 90, 90, 90]))  # Rectangle\n",
    "print(quadrilateral_type([4, 4, 4, 4], [60, 120, 60, 120])) # Rhombus\n",
    "print(quadrilateral_type([4, 6, 4, 6], [60, 120, 60, 120])) # Parallelogram\n",
    "print(quadrilateral_type([4, 6, 6, 4], [90, 60, 90, 120]))  # Trapezium\n",
    "print(quadrilateral_type([3, 4, 5, 6], [70, 80, 90, 120])) # General Quadrilateral"
   ]
  },
  {
   "cell_type": "markdown",
   "metadata": {},
   "source": [
    "29. Write a Python script to determine the season based on a user-provided month using elif statements."
   ]
  },
  {
   "cell_type": "code",
   "execution_count": 26,
   "metadata": {},
   "outputs": [
    {
     "name": "stdout",
     "output_type": "stream",
     "text": [
      "Winter\n",
      "Invalid Input. Please enter a string\n"
     ]
    }
   ],
   "source": [
    "def determine_season(month):\n",
    "    if not isinstance(month,str):\n",
    "        return \"Invalid Input. Please enter a string\"\n",
    "    month = month.lower()\n",
    "    if month in ['december', 'january', 'february']:\n",
    "        return \"Winter\"\n",
    "    elif month in ['march', 'april', 'may']:\n",
    "        return \"Spring\"\n",
    "    elif month in ['june', 'july', 'august']:\n",
    "        return \"Summer\"\n",
    "    elif month in ['september', 'october', 'november']:\n",
    "        return \"Fall (Autumn)\"\n",
    "    else:\n",
    "        return \"Invalid month. Please enter a valid month name.\"\n",
    "\n",
    "print(determine_season('december'))\n",
    "print(determine_season(1))"
   ]
  },
  {
   "cell_type": "markdown",
   "metadata": {},
   "source": [
    "30. Implement a program to determine the type of a year (leap or common) and month (30 or 31 days) using\n",
    "elif statements.\n"
   ]
  },
  {
   "cell_type": "code",
   "execution_count": 27,
   "metadata": {},
   "outputs": [
    {
     "name": "stdout",
     "output_type": "stream",
     "text": [
      "The year 2023 is a Common Year.\n",
      "February has 28 days.\n"
     ]
    }
   ],
   "source": [
    "def determine_year_type(year):\n",
    "    if (year % 4 == 0 and year % 100 != 0) or (year % 400 == 0):\n",
    "        return \"Leap Year\"\n",
    "    else:\n",
    "        return \"Common Year\"\n",
    "\n",
    "def determine_days_in_month(month, year):\n",
    "    month = month.lower()\n",
    "    leap_year = determine_year_type(year) == \"Leap Year\"\n",
    "    \n",
    "    if month in ['january', 'march', 'may', 'july', 'august', 'october', 'december']:\n",
    "        return \"31 days\"\n",
    "    elif month in ['april', 'june', 'september', 'november']:\n",
    "        return \"30 days\"\n",
    "    elif month == 'february':\n",
    "        if leap_year:\n",
    "            return \"29 days\"\n",
    "        else:\n",
    "            return \"28 days\"\n",
    "    else:\n",
    "        return \"Invalid month. Please enter a valid month name.\"\n",
    "\n",
    "# Example usage\n",
    "year = int(input(\"Enter the year: \"))\n",
    "month = input(\"Enter the month: \")\n",
    "\n",
    "print(f\"The year {year} is a {determine_year_type(year)}.\")\n",
    "print(f\"{month.capitalize()} has {determine_days_in_month(month, year)}.\")\n"
   ]
  },
  {
   "cell_type": "markdown",
   "metadata": {},
   "source": [
    "Basic Level:\n",
    "\n",
    " \n",
    "\n",
    "1. Write a Python program that checks if a given number is positive, negative, or zero."
   ]
  },
  {
   "cell_type": "code",
   "execution_count": 29,
   "metadata": {},
   "outputs": [
    {
     "name": "stdout",
     "output_type": "stream",
     "text": [
      "number is Positive\n",
      "number is zero\n",
      "number is Negative\n",
      "Invalid Input. Please enter Numeric value.\n"
     ]
    }
   ],
   "source": [
    "def check_number(n):\n",
    "    if isinstance(n,(int,float)):\n",
    "        if n == 0:\n",
    "            return \"number is zero\"\n",
    "        elif n > 0:\n",
    "            return \"number is Positive\"\n",
    "        else:\n",
    "            return \"number is Negative\"\n",
    "    else:\n",
    "        return \"Invalid Input. Please enter Numeric value.\"\n",
    "print(check_number(2.3))\n",
    "print(check_number(0))\n",
    "print(check_number(-2))\n",
    "print(check_number('abc'))"
   ]
  },
  {
   "cell_type": "markdown",
   "metadata": {},
   "source": [
    "2. Create a program to determine if a person is eligible to vote based on their age."
   ]
  },
  {
   "cell_type": "code",
   "execution_count": 32,
   "metadata": {},
   "outputs": [
    {
     "name": "stdout",
     "output_type": "stream",
     "text": [
      "he is eligible to vote\n"
     ]
    }
   ],
   "source": [
    "def eligible_2_vote(age):\n",
    "    if age>=18:\n",
    "        return \"he is eligible to vote\"\n",
    "    else:\n",
    "        return \"he is not eligible to vote\"\n",
    "print(eligible_2_vote(20))"
   ]
  },
  {
   "cell_type": "markdown",
   "metadata": {},
   "source": [
    "3. Write a program to find the maximum of two given numbers using conditional statements."
   ]
  },
  {
   "cell_type": "code",
   "execution_count": 34,
   "metadata": {},
   "outputs": [
    {
     "name": "stdout",
     "output_type": "stream",
     "text": [
      "(2, 'is maximum number')\n"
     ]
    }
   ],
   "source": [
    "def max_of_2_num(a,b):\n",
    "    if a>b:\n",
    "        return a,\"is maximum number\"\n",
    "    else:\n",
    "        return  b,\"is maximum number\"\n",
    "print(max_of_2_num(1,2))"
   ]
  },
  {
   "cell_type": "markdown",
   "metadata": {},
   "source": [
    "4. Develop a program that calculates the grade of a student based on their exam score."
   ]
  },
  {
   "cell_type": "code",
   "execution_count": 37,
   "metadata": {},
   "outputs": [
    {
     "name": "stdout",
     "output_type": "stream",
     "text": [
      "Invalid score. Please enter a score between 0 and 100.\n",
      "A\n",
      "Invalid score. Please enter a score between 0 and 100.\n",
      "C\n",
      "Invalid Input. Please enter an integer.\n"
     ]
    }
   ],
   "source": [
    "def grade_of_student(scores):\n",
    "    if not isinstance(scores, int):\n",
    "        return \"Invalid Input. Please enter an integer.\"\n",
    "    \n",
    "    if scores < 0 or scores > 100:\n",
    "        return \"Invalid score. Please enter a score between 0 and 100.\"\n",
    "    \n",
    "    if scores >= 90:\n",
    "        return \"A+\"\n",
    "    elif scores >= 80:\n",
    "        return \"A\"\n",
    "    elif scores >= 60:\n",
    "        return \"B+\"\n",
    "    elif scores >= 40:\n",
    "        return \"C\"\n",
    "    else:\n",
    "        return \"Fail\"\n",
    "\n",
    "print(grade_of_student(102))  # Invalid score. Please enter a score between 0 and 100.\n",
    "print(grade_of_student(85))   # A\n",
    "print(grade_of_student(-5))   # Invalid score. Please enter a score between 0 and 100.\n",
    "print(grade_of_student(55))   # C\n",
    "print(grade_of_student(\"eighty\"))  # Invalid Input. Please enter an integer."
   ]
  },
  {
   "cell_type": "markdown",
   "metadata": {},
   "source": [
    "5. Create a program that checks if a year is a leap year or not."
   ]
  },
  {
   "cell_type": "code",
   "execution_count": 39,
   "metadata": {},
   "outputs": [
    {
     "name": "stdout",
     "output_type": "stream",
     "text": [
      "True\n"
     ]
    }
   ],
   "source": [
    "def check_leap_year(year):\n",
    "    if year%4==0:\n",
    "        return True\n",
    "    elif year%100:\n",
    "        return False\n",
    "    elif year%400:\n",
    "        return True\n",
    "    else:\n",
    "        return False\n",
    "print(check_leap_year(2024))"
   ]
  },
  {
   "cell_type": "markdown",
   "metadata": {},
   "source": [
    "6. Write a program to classify a triangle based on its sides' lengths."
   ]
  },
  {
   "cell_type": "code",
   "execution_count": 43,
   "metadata": {},
   "outputs": [
    {
     "name": "stdout",
     "output_type": "stream",
     "text": [
      "equilateral triangle\n",
      "isoscelene triangle\n",
      "scelene triangle\n"
     ]
    }
   ],
   "source": [
    "def classify_triangle(a,b,c):\n",
    "    if a==b and b==c and a==c:\n",
    "        return \"equilateral triangle\"\n",
    "    elif a==b or b==c or a==c:\n",
    "        return \"isoscelene triangle\"\n",
    "    else:\n",
    "        return \"scelene triangle\"\n",
    "print(classify_triangle(2,2,2))\n",
    "print(classify_triangle(1,1,2))\n",
    "print(classify_triangle(1,2,3))"
   ]
  },
  {
   "cell_type": "markdown",
   "metadata": {},
   "source": [
    "7. Build a program that determines the largest of three given numbers."
   ]
  },
  {
   "cell_type": "code",
   "execution_count": 45,
   "metadata": {},
   "outputs": [
    {
     "name": "stdout",
     "output_type": "stream",
     "text": [
      "the largest number is 3\n"
     ]
    }
   ],
   "source": [
    "def determine_largest_of_3_num(a,b,c):\n",
    "    if a > b  and a>c:\n",
    "        return f\"the largest number is {a}\"\n",
    "    elif b > c and b>a:\n",
    "        return f\"the largest number is {b}\"\n",
    "    else:\n",
    "        return f\"the largest number is {c}\"\n",
    "print(determine_largest_of_3_num(1,2,3))"
   ]
  },
  {
   "cell_type": "markdown",
   "metadata": {},
   "source": [
    "8. Develop a program that checks whether a character is a vowel or a consonant"
   ]
  },
  {
   "cell_type": "code",
   "execution_count": 55,
   "metadata": {},
   "outputs": [
    {
     "name": "stdout",
     "output_type": "stream",
     "text": [
      "a is vowel\n",
      "B is consonant\n",
      "Invalid Input. Please enter string\n"
     ]
    }
   ],
   "source": [
    "def check_vowel(char):\n",
    "    if not isinstance(char,str) or len(char)!=1:\n",
    "        return \"Invalid Input. Please enter string\"\n",
    "    if char.lower() in 'aeiou':\n",
    "        return f\"{char} is vowel\"\n",
    "    else:\n",
    "        return f\"{char} is consonant\"\n",
    "print(check_vowel('a'))\n",
    "print(check_vowel(\"B\"))\n",
    "print(check_vowel(1))"
   ]
  },
  {
   "cell_type": "markdown",
   "metadata": {},
   "source": [
    "9. Create a program to calculate the total cost of a shopping cart based on discounts."
   ]
  },
  {
   "cell_type": "code",
   "execution_count": 64,
   "metadata": {},
   "outputs": [
    {
     "name": "stdout",
     "output_type": "stream",
     "text": [
      "Total cost without discount is 280600 and Total Cost Without Discount is 278540.0\n"
     ]
    }
   ],
   "source": [
    "def shopping_cart_total_discount_cost():\n",
    "    item_list = ['belt','mobile','laptop']\n",
    "    item_price ={'belt':300,'mobile':10000,'laptop':120000}\n",
    "    item_quan = {'belt':2,'mobile':4,'laptop':2}\n",
    "    discount = {'belt':0.10,'mobile':0.05,'laptop':0}\n",
    "\n",
    "    total_cost = 0\n",
    "    total_cost_with_discounts = 0\n",
    "\n",
    "    for item in item_list:\n",
    "        total_cost+=item_price[item]*item_quan[item]\n",
    "        total_cost_with_discounts+=item_price[item]*item_quan[item]*(1-discount[item])\n",
    "\n",
    "    return f\"Total cost without discount is {total_cost} and Total Cost Without Discount is {total_cost_with_discounts}\"\n",
    "\n",
    "print(shopping_cart_total_discount_cost())"
   ]
  },
  {
   "cell_type": "markdown",
   "metadata": {},
   "source": [
    "10. Write a program that checks if a given number is even or odd."
   ]
  },
  {
   "cell_type": "code",
   "execution_count": 67,
   "metadata": {},
   "outputs": [
    {
     "name": "stdout",
     "output_type": "stream",
     "text": [
      "True\n"
     ]
    }
   ],
   "source": [
    "def check_even(n):\n",
    "    if n%2 == 0:\n",
    "        return True\n",
    "    else:\n",
    "        return False\n",
    "print(check_even(6))"
   ]
  },
  {
   "cell_type": "markdown",
   "metadata": {},
   "source": [
    "Intermediate Level:\n",
    "\n",
    " \n",
    "\n",
    "11. Write a program that calculates the roots of a quadratic equation ."
   ]
  },
  {
   "cell_type": "code",
   "execution_count": 72,
   "metadata": {},
   "outputs": [
    {
     "name": "stdout",
     "output_type": "stream",
     "text": [
      "The quadratic equation has two roots -1.0 and -4.0\n"
     ]
    }
   ],
   "source": [
    "def roots_of_quad_equn(a,b,c):\n",
    "    d = b**2 - 4*a*c\n",
    "    root1 = (-b + d**0.5)//2*a\n",
    "    root2 = (-b - d**0.5)//2*a\n",
    "    if d > 0:\n",
    "        return f\"The quadratic equation has two roots {root1} and {root2}\"\n",
    "    elif d == 0:\n",
    "        return f\"The quadratic equation has exactly one roots or repeated root {root1} = {root2}\"\n",
    "    else:\n",
    "        return f\"The quadratic equation has no real root\"\n",
    "print(roots_of_quad_equn(1,4,2))"
   ]
  },
  {
   "cell_type": "markdown",
   "metadata": {},
   "source": [
    "12. Create a program that determines the day of the week based on the day number (1-7)."
   ]
  },
  {
   "cell_type": "code",
   "execution_count": 73,
   "metadata": {},
   "outputs": [
    {
     "name": "stdout",
     "output_type": "stream",
     "text": [
      "It's Sunday.\n",
      "It's Friday.\n",
      "invalid Input. Please enter number between 1 and 7\n",
      "Invalid Input. Please enter the integer data type\n"
     ]
    }
   ],
   "source": [
    "def determine_days_of_the_week(day_number):\n",
    "    if not isinstance(day_number,int):\n",
    "        return \"Invalid Input. Please enter the integer data type\"\n",
    "    if not 1<= day_number <=7:\n",
    "        return \"invalid Input. Please enter number between 1 and 7\"\n",
    "    if day_number==1:\n",
    "        return \"It's Sunday.\"\n",
    "    elif day_number == 2:\n",
    "        return \"It's Monday.\"\n",
    "    elif day_number == 3:\n",
    "        return \"It's Tuesday.\"\n",
    "    elif day_number == 4:\n",
    "        return \"It's Wednesday.\"\n",
    "    elif day_number == 5:\n",
    "        return \"It's Thursday.\"\n",
    "    elif day_number == 6:\n",
    "        return \"It's Friday.\"\n",
    "    elif day_number == 7:\n",
    "        return \"It's Saturday.\"\n",
    "\n",
    "print(determine_days_of_the_week(1))  # Output: It's Sunday.\n",
    "print(determine_days_of_the_week(6))  # Output: It's Friday.\n",
    "print(determine_days_of_the_week(8))  # Output: Invalid Input. Please enter a number between 1 and 7.\n",
    "print(determine_days_of_the_week('Monday'))  # Output: Invalid Input. Please enter an integer data type."
   ]
  },
  {
   "cell_type": "markdown",
   "metadata": {},
   "source": [
    "13. Develop a program that calculates the factorial of a given number using recursion."
   ]
  },
  {
   "cell_type": "code",
   "execution_count": 77,
   "metadata": {},
   "outputs": [
    {
     "name": "stdout",
     "output_type": "stream",
     "text": [
      "Factorial of given number is: 120\n"
     ]
    }
   ],
   "source": [
    "def calculat_factorial_of_num(n):\n",
    "    if n == 0:\n",
    "        return 1\n",
    "    else:\n",
    "        return n*calculat_factorial_of_num(n-1)\n",
    "print(\"Factorial of given number is:\",calculat_factorial_of_num(5))"
   ]
  },
  {
   "cell_type": "markdown",
   "metadata": {},
   "source": [
    "14. Write a program to find the largest among three numbers without using the `max()` function."
   ]
  },
  {
   "cell_type": "code",
   "execution_count": 79,
   "metadata": {},
   "outputs": [
    {
     "name": "stdout",
     "output_type": "stream",
     "text": [
      "Largest number among three numbers is: 27\n"
     ]
    }
   ],
   "source": [
    "def largest_among_three_num(num1,num2,num3):\n",
    "    return max(num1,num2,num3)\n",
    "print(\"Largest number among three numbers is:\",largest_among_three_num(23,27,22))"
   ]
  },
  {
   "cell_type": "markdown",
   "metadata": {},
   "source": [
    "15. Create a program that simulates a basic ATM transaction menu."
   ]
  },
  {
   "cell_type": "code",
   "execution_count": null,
   "metadata": {},
   "outputs": [],
   "source": [
    "def atm_transaction_menu():\n",
    "    return f\"\"\"\n",
    "            1.Withdrawl\n",
    "            2.Deposit\n",
    "            3.Check Balance\n",
    "            4.Exit\"\"\"\n",
    "def withdraw(balance):\n",
    "    try:\n",
    "        amount = float(input(\"Enter the amount to withdraw: ₹\"))\n",
    "        if amount > 0:\n",
    "            if amount <= balance:\n",
    "                balance -= amount\n",
    "                print(f\"${amount:.2f} withdrawn successfully.\")\n",
    "            else:\n",
    "                print(\"Insufficient funds.\")\n",
    "        else:\n",
    "            print(\"Withdrawal amount must be positive.\")\n",
    "    except ValueError:\n",
    "        print(\"Invalid amount. Please enter a numeric value.\")\n",
    "    return balance\n",
    "def deposit(balance):\n",
    "    try:\n",
    "        amount = float(input(\"Enter the amount to deposit: ₹\"))\n",
    "        if amount > 0:\n",
    "            \n"
   ]
  },
  {
   "cell_type": "code",
   "execution_count": null,
   "metadata": {},
   "outputs": [],
   "source": []
  }
 ],
 "metadata": {
  "kernelspec": {
   "display_name": "Python 3",
   "language": "python",
   "name": "python3"
  },
  "language_info": {
   "codemirror_mode": {
    "name": "ipython",
    "version": 3
   },
   "file_extension": ".py",
   "mimetype": "text/x-python",
   "name": "python",
   "nbconvert_exporter": "python",
   "pygments_lexer": "ipython3",
   "version": "3.12.4"
  }
 },
 "nbformat": 4,
 "nbformat_minor": 2
}
